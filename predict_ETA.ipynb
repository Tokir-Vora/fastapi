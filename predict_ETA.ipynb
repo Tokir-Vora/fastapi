{
 "cells": [
  {
   "cell_type": "code",
   "execution_count": 1,
   "id": "a63231ea",
   "metadata": {},
   "outputs": [],
   "source": [
    "import pandas as pd\n",
    "import numpy as np"
   ]
  },
  {
   "cell_type": "code",
   "execution_count": 2,
   "id": "5b9a7598",
   "metadata": {},
   "outputs": [],
   "source": [
    "df = pd.read_excel('data.xlsx')"
   ]
  },
  {
   "cell_type": "code",
   "execution_count": 3,
   "id": "2b1e9401",
   "metadata": {},
   "outputs": [
    {
     "data": {
      "text/html": [
       "<div>\n",
       "<style scoped>\n",
       "    .dataframe tbody tr th:only-of-type {\n",
       "        vertical-align: middle;\n",
       "    }\n",
       "\n",
       "    .dataframe tbody tr th {\n",
       "        vertical-align: top;\n",
       "    }\n",
       "\n",
       "    .dataframe thead th {\n",
       "        text-align: right;\n",
       "    }\n",
       "</style>\n",
       "<table border=\"1\" class=\"dataframe\">\n",
       "  <thead>\n",
       "    <tr style=\"text-align: right;\">\n",
       "      <th></th>\n",
       "      <th>technology</th>\n",
       "      <th>Exp</th>\n",
       "      <th>Modules</th>\n",
       "      <th>Category</th>\n",
       "      <th>Project Name</th>\n",
       "      <th>Estimated Time</th>\n",
       "    </tr>\n",
       "  </thead>\n",
       "  <tbody>\n",
       "    <tr>\n",
       "      <th>0</th>\n",
       "      <td>C#</td>\n",
       "      <td>2</td>\n",
       "      <td>User Management</td>\n",
       "      <td>Hotel Management System</td>\n",
       "      <td>Book My Hotel</td>\n",
       "      <td>10</td>\n",
       "    </tr>\n",
       "    <tr>\n",
       "      <th>1</th>\n",
       "      <td>C#</td>\n",
       "      <td>2</td>\n",
       "      <td>Room Booking Service</td>\n",
       "      <td>Hotel Management System</td>\n",
       "      <td>Book My Hotel</td>\n",
       "      <td>20</td>\n",
       "    </tr>\n",
       "    <tr>\n",
       "      <th>2</th>\n",
       "      <td>C#</td>\n",
       "      <td>2</td>\n",
       "      <td>Payment Gateway</td>\n",
       "      <td>Hotel Management System</td>\n",
       "      <td>Book My Hotel</td>\n",
       "      <td>5</td>\n",
       "    </tr>\n",
       "    <tr>\n",
       "      <th>3</th>\n",
       "      <td>C#</td>\n",
       "      <td>2</td>\n",
       "      <td>Cart</td>\n",
       "      <td>Hotel Management System</td>\n",
       "      <td>Book My Hotel</td>\n",
       "      <td>30</td>\n",
       "    </tr>\n",
       "    <tr>\n",
       "      <th>4</th>\n",
       "      <td>C#</td>\n",
       "      <td>1</td>\n",
       "      <td>User Management</td>\n",
       "      <td>Hotel Management System</td>\n",
       "      <td>Book My Hotel</td>\n",
       "      <td>15</td>\n",
       "    </tr>\n",
       "  </tbody>\n",
       "</table>\n",
       "</div>"
      ],
      "text/plain": [
       "  technology  Exp               Modules                 Category  \\\n",
       "0         C#    2       User Management  Hotel Management System   \n",
       "1         C#    2  Room Booking Service  Hotel Management System   \n",
       "2         C#    2       Payment Gateway  Hotel Management System   \n",
       "3         C#    2                  Cart  Hotel Management System   \n",
       "4         C#    1       User Management  Hotel Management System   \n",
       "\n",
       "    Project Name  Estimated Time  \n",
       "0  Book My Hotel              10  \n",
       "1  Book My Hotel              20  \n",
       "2  Book My Hotel               5  \n",
       "3  Book My Hotel              30  \n",
       "4  Book My Hotel              15  "
      ]
     },
     "execution_count": 3,
     "metadata": {},
     "output_type": "execute_result"
    }
   ],
   "source": [
    "df.head()"
   ]
  },
  {
   "cell_type": "code",
   "execution_count": 4,
   "id": "ff82e921",
   "metadata": {},
   "outputs": [
    {
     "data": {
      "text/html": [
       "<div>\n",
       "<style scoped>\n",
       "    .dataframe tbody tr th:only-of-type {\n",
       "        vertical-align: middle;\n",
       "    }\n",
       "\n",
       "    .dataframe tbody tr th {\n",
       "        vertical-align: top;\n",
       "    }\n",
       "\n",
       "    .dataframe thead th {\n",
       "        text-align: right;\n",
       "    }\n",
       "</style>\n",
       "<table border=\"1\" class=\"dataframe\">\n",
       "  <thead>\n",
       "    <tr style=\"text-align: right;\">\n",
       "      <th></th>\n",
       "      <th>technology</th>\n",
       "      <th>Exp</th>\n",
       "      <th>Modules</th>\n",
       "      <th>Category</th>\n",
       "      <th>Project Name</th>\n",
       "    </tr>\n",
       "  </thead>\n",
       "  <tbody>\n",
       "    <tr>\n",
       "      <th>0</th>\n",
       "      <td>C#</td>\n",
       "      <td>2</td>\n",
       "      <td>User Management</td>\n",
       "      <td>Hotel Management System</td>\n",
       "      <td>Book My Hotel</td>\n",
       "    </tr>\n",
       "    <tr>\n",
       "      <th>1</th>\n",
       "      <td>C#</td>\n",
       "      <td>2</td>\n",
       "      <td>Room Booking Service</td>\n",
       "      <td>Hotel Management System</td>\n",
       "      <td>Book My Hotel</td>\n",
       "    </tr>\n",
       "    <tr>\n",
       "      <th>2</th>\n",
       "      <td>C#</td>\n",
       "      <td>2</td>\n",
       "      <td>Payment Gateway</td>\n",
       "      <td>Hotel Management System</td>\n",
       "      <td>Book My Hotel</td>\n",
       "    </tr>\n",
       "    <tr>\n",
       "      <th>3</th>\n",
       "      <td>C#</td>\n",
       "      <td>2</td>\n",
       "      <td>Cart</td>\n",
       "      <td>Hotel Management System</td>\n",
       "      <td>Book My Hotel</td>\n",
       "    </tr>\n",
       "    <tr>\n",
       "      <th>4</th>\n",
       "      <td>C#</td>\n",
       "      <td>1</td>\n",
       "      <td>User Management</td>\n",
       "      <td>Hotel Management System</td>\n",
       "      <td>Book My Hotel</td>\n",
       "    </tr>\n",
       "  </tbody>\n",
       "</table>\n",
       "</div>"
      ],
      "text/plain": [
       "  technology  Exp               Modules                 Category  \\\n",
       "0         C#    2       User Management  Hotel Management System   \n",
       "1         C#    2  Room Booking Service  Hotel Management System   \n",
       "2         C#    2       Payment Gateway  Hotel Management System   \n",
       "3         C#    2                  Cart  Hotel Management System   \n",
       "4         C#    1       User Management  Hotel Management System   \n",
       "\n",
       "    Project Name  \n",
       "0  Book My Hotel  \n",
       "1  Book My Hotel  \n",
       "2  Book My Hotel  \n",
       "3  Book My Hotel  \n",
       "4  Book My Hotel  "
      ]
     },
     "execution_count": 4,
     "metadata": {},
     "output_type": "execute_result"
    }
   ],
   "source": [
    "X = df.iloc[:, 0:5]\n",
    "X.head()"
   ]
  },
  {
   "cell_type": "code",
   "execution_count": 5,
   "id": "7c64be5e",
   "metadata": {},
   "outputs": [],
   "source": [
    "y = df.iloc[:,5]"
   ]
  },
  {
   "cell_type": "code",
   "execution_count": 6,
   "id": "ac9e7769",
   "metadata": {},
   "outputs": [
    {
     "data": {
      "text/plain": [
       "0    10\n",
       "1    20\n",
       "2     5\n",
       "3    30\n",
       "4    15\n",
       "Name: Estimated Time, dtype: int64"
      ]
     },
     "execution_count": 6,
     "metadata": {},
     "output_type": "execute_result"
    }
   ],
   "source": [
    "y.head()"
   ]
  },
  {
   "cell_type": "code",
   "execution_count": 7,
   "id": "9d916e4d",
   "metadata": {},
   "outputs": [],
   "source": [
    "from sklearn.model_selection import train_test_split"
   ]
  },
  {
   "cell_type": "code",
   "execution_count": 8,
   "id": "e00708e0",
   "metadata": {},
   "outputs": [],
   "source": [
    "X_train, X_test, y_train, y_test = train_test_split(X, y, test_size=0.3, random_state=42)"
   ]
  },
  {
   "cell_type": "code",
   "execution_count": 9,
   "id": "3334cb8a",
   "metadata": {},
   "outputs": [],
   "source": [
    "from sklearn.compose import ColumnTransformer\n",
    "from sklearn.pipeline import Pipeline\n",
    "from sklearn.preprocessing import OneHotEncoder\n",
    "from sklearn.preprocessing import StandardScaler\n",
    "\n",
    "# Preprocessing for categorical data\n",
    "categorical_transformer = Pipeline(steps=[\n",
    "    ('onehot', OneHotEncoder(handle_unknown='ignore'))\n",
    "])\n",
    "\n",
    "numerical_transformer = Pipeline(steps=[\n",
    "    ('scaler', StandardScaler()),\n",
    "])\n",
    "\n",
    "categorical_cols = [0,2,3,4]\n",
    "\n",
    "# Bundle preprocessing for categorical data\n",
    "preprocessor = ColumnTransformer(\n",
    "    transformers=[\n",
    "        ('scl', numerical_transformer, [1]),\n",
    "        ('cat', categorical_transformer, categorical_cols)\n",
    "    ])"
   ]
  },
  {
   "cell_type": "code",
   "execution_count": 10,
   "id": "a971910b",
   "metadata": {},
   "outputs": [],
   "source": [
    "from sklearn.ensemble import RandomForestRegressor\n",
    "from sklearn.linear_model import LinearRegression\n",
    "from sklearn.neighbors import KNeighborsRegressor\n",
    "from sklearn.tree import DecisionTreeRegressor\n",
    "from sklearn.svm import SVR\n",
    "from sklearn.gaussian_process import GaussianProcessRegressor\n",
    "from sklearn.gaussian_process.kernels import DotProduct, WhiteKernel\n",
    "\n",
    "\n",
    "model = RandomForestRegressor(n_estimators=100, random_state=0)\n",
    "# model = LinearRegression()\n",
    "# model = KNeighborsRegressor(n_neighbors=3)\n",
    "# model = DecisionTreeRegressor()\n",
    "# model = SVR(epsilon=0.2)\n",
    "# kernel = DotProduct() + WhiteKernel()\n",
    "# model = GaussianProcessRegressor(kernel=kernel)"
   ]
  },
  {
   "cell_type": "code",
   "execution_count": 11,
   "id": "77413fd3",
   "metadata": {},
   "outputs": [
    {
     "name": "stdout",
     "output_type": "stream",
     "text": [
      "MAE: 6.226999999999999\n",
      "MSE: 60.44264999999999\n",
      "RMSE: 7.77448712134762\n",
      "Explain variance score = 0.82\n"
     ]
    }
   ],
   "source": [
    "from sklearn.metrics import mean_absolute_error,mean_squared_error,explained_variance_score\n",
    "\n",
    "# Bundle preprocessing and modeling code in a pipeline\n",
    "my_pipeline = Pipeline(steps=[('preprocessor', preprocessor),\n",
    "                              ('model', model)\n",
    "                             ])\n",
    "\n",
    "# Preprocessing of training data, fit model \n",
    "my_pipeline.fit(X_train, y_train)\n",
    "\n",
    "# Preprocessing of validation data, get predictions\n",
    "preds = my_pipeline.predict(X_test)\n",
    "\n",
    "# Evaluate the model\n",
    "mae = mean_absolute_error(y_test, preds)\n",
    "print('MAE:', mae)\n",
    "mse = mean_squared_error(y_test, preds)\n",
    "print('MSE:', mse)\n",
    "rmse = np.sqrt(mse)\n",
    "print('RMSE:', rmse)\n",
    "print(\"Explain variance score =\", round(explained_variance_score(y_test, preds), 2)) "
   ]
  },
  {
   "cell_type": "code",
   "execution_count": 12,
   "id": "e6c89610",
   "metadata": {},
   "outputs": [
    {
     "data": {
      "text/plain": [
       "29    17\n",
       "15    50\n",
       "24    18\n",
       "17    18\n",
       "8     20\n",
       "9     15\n",
       "30    70\n",
       "25    15\n",
       "12    35\n",
       "0     10\n",
       "Name: Estimated Time, dtype: int64"
      ]
     },
     "execution_count": 12,
     "metadata": {},
     "output_type": "execute_result"
    }
   ],
   "source": [
    "y_test"
   ]
  },
  {
   "cell_type": "code",
   "execution_count": 13,
   "id": "7875aedd",
   "metadata": {},
   "outputs": [
    {
     "data": {
      "text/plain": [
       "array([31.02, 35.8 , 22.69, 19.91, 21.96, 18.54, 64.15, 18.05, 24.26,\n",
       "       12.31])"
      ]
     },
     "execution_count": 13,
     "metadata": {},
     "output_type": "execute_result"
    }
   ],
   "source": [
    "preds"
   ]
  },
  {
   "cell_type": "code",
   "execution_count": 14,
   "id": "06e70677",
   "metadata": {},
   "outputs": [
    {
     "name": "stderr",
     "output_type": "stream",
     "text": [
      "C:\\Users\\IPS-207\\Desktop\\my model\\venv\\lib\\site-packages\\sklearn\\base.py:409: UserWarning: X does not have valid feature names, but StandardScaler was fitted with feature names\n",
      "  warnings.warn(\n",
      "C:\\Users\\IPS-207\\Desktop\\my model\\venv\\lib\\site-packages\\sklearn\\base.py:409: UserWarning: X does not have valid feature names, but OneHotEncoder was fitted with feature names\n",
      "  warnings.warn(\n"
     ]
    }
   ],
   "source": [
    "my_preds = my_pipeline.predict([['C#',1,'User','Insurance','Inventory Management'],['C#',2,'User','Insurance','Inventory Management']])"
   ]
  },
  {
   "cell_type": "code",
   "execution_count": 15,
   "id": "1a7ecdcd",
   "metadata": {},
   "outputs": [
    {
     "data": {
      "text/plain": [
       "array([35.2 , 26.09])"
      ]
     },
     "execution_count": 15,
     "metadata": {},
     "output_type": "execute_result"
    }
   ],
   "source": [
    "my_preds"
   ]
  },
  {
   "cell_type": "code",
   "execution_count": 16,
   "id": "5c460a1b",
   "metadata": {},
   "outputs": [
    {
     "name": "stdout",
     "output_type": "stream",
     "text": [
      "Model score: 0.9277413483209376\n"
     ]
    }
   ],
   "source": [
    "import pickle\n",
    "\n",
    "print('Model score:', my_pipeline.score(X_train,y_train))\n",
    "pickle.dump(my_pipeline, open('rfr_model.sav', 'wb'))"
   ]
  },
  {
   "cell_type": "code",
   "execution_count": 17,
   "id": "206ec2ae",
   "metadata": {},
   "outputs": [
    {
     "name": "stdout",
     "output_type": "stream",
     "text": [
      "Loaded model score: 0.9277413483209376\n"
     ]
    }
   ],
   "source": [
    "loaded_model = pickle.load(open('rfr_model.sav', 'rb'))                 \n",
    "print('Loaded model score:', loaded_model.score(X_train,y_train))"
   ]
  },
  {
   "cell_type": "code",
   "execution_count": 18,
   "id": "57e3a954",
   "metadata": {},
   "outputs": [
    {
     "name": "stderr",
     "output_type": "stream",
     "text": [
      "C:\\Users\\IPS-207\\Desktop\\my model\\venv\\lib\\site-packages\\sklearn\\base.py:409: UserWarning: X does not have valid feature names, but StandardScaler was fitted with feature names\n",
      "  warnings.warn(\n",
      "C:\\Users\\IPS-207\\Desktop\\my model\\venv\\lib\\site-packages\\sklearn\\base.py:409: UserWarning: X does not have valid feature names, but OneHotEncoder was fitted with feature names\n",
      "  warnings.warn(\n"
     ]
    },
    {
     "data": {
      "text/plain": [
       "array([35.2 , 26.09])"
      ]
     },
     "execution_count": 18,
     "metadata": {},
     "output_type": "execute_result"
    }
   ],
   "source": [
    "loaded_model.predict([['C#',1,'User','Insurance','Inventory Management'],['C#',2,'User','Insurance','Inventory Management']])"
   ]
  },
  {
   "cell_type": "code",
   "execution_count": null,
   "id": "b14bf900",
   "metadata": {},
   "outputs": [],
   "source": []
  }
 ],
 "metadata": {
  "kernelspec": {
   "display_name": "Python 3 (ipykernel)",
   "language": "python",
   "name": "python3"
  },
  "language_info": {
   "codemirror_mode": {
    "name": "ipython",
    "version": 3
   },
   "file_extension": ".py",
   "mimetype": "text/x-python",
   "name": "python",
   "nbconvert_exporter": "python",
   "pygments_lexer": "ipython3",
   "version": "3.10.0"
  }
 },
 "nbformat": 4,
 "nbformat_minor": 5
}
