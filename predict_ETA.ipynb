{
 "cells": [
  {
   "cell_type": "code",
   "execution_count": 1,
   "id": "a63231ea",
   "metadata": {},
   "outputs": [],
   "source": [
    "import pandas as pd\n",
    "import numpy as np"
   ]
  },
  {
   "cell_type": "code",
   "execution_count": 2,
   "id": "5b9a7598",
   "metadata": {},
   "outputs": [],
   "source": [
    "df = pd.read_csv('data.csv')"
   ]
  },
  {
   "cell_type": "code",
   "execution_count": 3,
   "id": "2b1e9401",
   "metadata": {},
   "outputs": [
    {
     "data": {
      "text/html": [
       "<div>\n",
       "<style scoped>\n",
       "    .dataframe tbody tr th:only-of-type {\n",
       "        vertical-align: middle;\n",
       "    }\n",
       "\n",
       "    .dataframe tbody tr th {\n",
       "        vertical-align: top;\n",
       "    }\n",
       "\n",
       "    .dataframe thead th {\n",
       "        text-align: right;\n",
       "    }\n",
       "</style>\n",
       "<table border=\"1\" class=\"dataframe\">\n",
       "  <thead>\n",
       "    <tr style=\"text-align: right;\">\n",
       "      <th></th>\n",
       "      <th>Technology</th>\n",
       "      <th>Experience</th>\n",
       "      <th>Difficulty</th>\n",
       "      <th>Module</th>\n",
       "      <th>ETAHours</th>\n",
       "    </tr>\n",
       "  </thead>\n",
       "  <tbody>\n",
       "    <tr>\n",
       "      <th>0</th>\n",
       "      <td>Python</td>\n",
       "      <td>1</td>\n",
       "      <td>1</td>\n",
       "      <td>UserModule</td>\n",
       "      <td>3</td>\n",
       "    </tr>\n",
       "    <tr>\n",
       "      <th>1</th>\n",
       "      <td>Python</td>\n",
       "      <td>2</td>\n",
       "      <td>1</td>\n",
       "      <td>UserModule</td>\n",
       "      <td>4</td>\n",
       "    </tr>\n",
       "    <tr>\n",
       "      <th>2</th>\n",
       "      <td>Python</td>\n",
       "      <td>3</td>\n",
       "      <td>1</td>\n",
       "      <td>UserModule</td>\n",
       "      <td>3</td>\n",
       "    </tr>\n",
       "    <tr>\n",
       "      <th>3</th>\n",
       "      <td>Python</td>\n",
       "      <td>4</td>\n",
       "      <td>1</td>\n",
       "      <td>UserModule</td>\n",
       "      <td>1</td>\n",
       "    </tr>\n",
       "    <tr>\n",
       "      <th>4</th>\n",
       "      <td>Python</td>\n",
       "      <td>5</td>\n",
       "      <td>1</td>\n",
       "      <td>UserModule</td>\n",
       "      <td>2</td>\n",
       "    </tr>\n",
       "  </tbody>\n",
       "</table>\n",
       "</div>"
      ],
      "text/plain": [
       "  Technology  Experience  Difficulty      Module  ETAHours\n",
       "0     Python           1           1  UserModule         3\n",
       "1     Python           2           1  UserModule         4\n",
       "2     Python           3           1  UserModule         3\n",
       "3     Python           4           1  UserModule         1\n",
       "4     Python           5           1  UserModule         2"
      ]
     },
     "execution_count": 3,
     "metadata": {},
     "output_type": "execute_result"
    }
   ],
   "source": [
    "df.head()"
   ]
  },
  {
   "cell_type": "code",
   "execution_count": 4,
   "id": "ff82e921",
   "metadata": {},
   "outputs": [
    {
     "data": {
      "text/html": [
       "<div>\n",
       "<style scoped>\n",
       "    .dataframe tbody tr th:only-of-type {\n",
       "        vertical-align: middle;\n",
       "    }\n",
       "\n",
       "    .dataframe tbody tr th {\n",
       "        vertical-align: top;\n",
       "    }\n",
       "\n",
       "    .dataframe thead th {\n",
       "        text-align: right;\n",
       "    }\n",
       "</style>\n",
       "<table border=\"1\" class=\"dataframe\">\n",
       "  <thead>\n",
       "    <tr style=\"text-align: right;\">\n",
       "      <th></th>\n",
       "      <th>Technology</th>\n",
       "      <th>Experience</th>\n",
       "      <th>Difficulty</th>\n",
       "      <th>Module</th>\n",
       "    </tr>\n",
       "  </thead>\n",
       "  <tbody>\n",
       "    <tr>\n",
       "      <th>0</th>\n",
       "      <td>Python</td>\n",
       "      <td>1</td>\n",
       "      <td>1</td>\n",
       "      <td>UserModule</td>\n",
       "    </tr>\n",
       "    <tr>\n",
       "      <th>1</th>\n",
       "      <td>Python</td>\n",
       "      <td>2</td>\n",
       "      <td>1</td>\n",
       "      <td>UserModule</td>\n",
       "    </tr>\n",
       "    <tr>\n",
       "      <th>2</th>\n",
       "      <td>Python</td>\n",
       "      <td>3</td>\n",
       "      <td>1</td>\n",
       "      <td>UserModule</td>\n",
       "    </tr>\n",
       "    <tr>\n",
       "      <th>3</th>\n",
       "      <td>Python</td>\n",
       "      <td>4</td>\n",
       "      <td>1</td>\n",
       "      <td>UserModule</td>\n",
       "    </tr>\n",
       "    <tr>\n",
       "      <th>4</th>\n",
       "      <td>Python</td>\n",
       "      <td>5</td>\n",
       "      <td>1</td>\n",
       "      <td>UserModule</td>\n",
       "    </tr>\n",
       "  </tbody>\n",
       "</table>\n",
       "</div>"
      ],
      "text/plain": [
       "  Technology  Experience  Difficulty      Module\n",
       "0     Python           1           1  UserModule\n",
       "1     Python           2           1  UserModule\n",
       "2     Python           3           1  UserModule\n",
       "3     Python           4           1  UserModule\n",
       "4     Python           5           1  UserModule"
      ]
     },
     "execution_count": 4,
     "metadata": {},
     "output_type": "execute_result"
    }
   ],
   "source": [
    "X = df.iloc[:, 0:4]\n",
    "X.head()"
   ]
  },
  {
   "cell_type": "code",
   "execution_count": 5,
   "id": "7c64be5e",
   "metadata": {},
   "outputs": [],
   "source": [
    "y = df.iloc[:,4]"
   ]
  },
  {
   "cell_type": "code",
   "execution_count": 6,
   "id": "ac9e7769",
   "metadata": {},
   "outputs": [
    {
     "data": {
      "text/plain": [
       "0    3\n",
       "1    4\n",
       "2    3\n",
       "3    1\n",
       "4    2\n",
       "Name: ETAHours, dtype: int64"
      ]
     },
     "execution_count": 6,
     "metadata": {},
     "output_type": "execute_result"
    }
   ],
   "source": [
    "y.head()"
   ]
  },
  {
   "cell_type": "code",
   "execution_count": 7,
   "id": "9d916e4d",
   "metadata": {},
   "outputs": [],
   "source": [
    "from sklearn.model_selection import train_test_split"
   ]
  },
  {
   "cell_type": "code",
   "execution_count": 8,
   "id": "e00708e0",
   "metadata": {},
   "outputs": [],
   "source": [
    "X_train, X_test, y_train, y_test = train_test_split(X, y, test_size=0.3, random_state=42)"
   ]
  },
  {
   "cell_type": "code",
   "execution_count": 9,
   "id": "3334cb8a",
   "metadata": {},
   "outputs": [],
   "source": [
    "from sklearn.compose import ColumnTransformer\n",
    "from sklearn.pipeline import Pipeline\n",
    "from sklearn.preprocessing import OneHotEncoder\n",
    "from sklearn.preprocessing import StandardScaler\n",
    "\n",
    "# Preprocessing for categorical data\n",
    "categorical_transformer = Pipeline(steps=[\n",
    "    ('onehot', OneHotEncoder(handle_unknown='ignore'))\n",
    "])\n",
    "\n",
    "numerical_transformer = Pipeline(steps=[\n",
    "    ('scaler', StandardScaler()),\n",
    "])\n",
    "\n",
    "categorical_cols = [0,3]\n",
    "\n",
    "# Bundle preprocessing for categorical data\n",
    "preprocessor = ColumnTransformer(\n",
    "    transformers=[\n",
    "        ('scl', numerical_transformer, [1,2]),\n",
    "        ('cat', categorical_transformer, categorical_cols)\n",
    "    ])"
   ]
  },
  {
   "cell_type": "code",
   "execution_count": 10,
   "id": "a971910b",
   "metadata": {},
   "outputs": [],
   "source": [
    "from sklearn.ensemble import RandomForestRegressor\n",
    "from sklearn.linear_model import LinearRegression\n",
    "from sklearn.neighbors import KNeighborsRegressor\n",
    "from sklearn.tree import DecisionTreeRegressor\n",
    "from sklearn.svm import SVR\n",
    "from sklearn.gaussian_process import GaussianProcessRegressor\n",
    "from sklearn.gaussian_process.kernels import DotProduct, WhiteKernel\n",
    "\n",
    "\n",
    "model = RandomForestRegressor(random_state=0)\n",
    "# model = LinearRegression()\n",
    "# model = KNeighborsRegressor(n_neighbors=3)\n",
    "# model = DecisionTreeRegressor()\n",
    "# model = SVR(epsilon=0.2)\n",
    "# kernel = DotProduct() + WhiteKernel()\n",
    "# model = GaussianProcessRegressor(kernel=kernel)"
   ]
  },
  {
   "cell_type": "code",
   "execution_count": 11,
   "id": "77413fd3",
   "metadata": {},
   "outputs": [
    {
     "name": "stdout",
     "output_type": "stream",
     "text": [
      "MAE: 1.0693866666666667\n",
      "MSE: 1.9411829333333335\n",
      "RMSE: 1.3932634113236928\n",
      "Explain variance score = 0.9\n"
     ]
    }
   ],
   "source": [
    "from sklearn.metrics import mean_absolute_error,mean_squared_error,explained_variance_score\n",
    "\n",
    "# Bundle preprocessing and modeling code in a pipeline\n",
    "my_pipeline = Pipeline(steps=[('preprocessor', preprocessor),\n",
    "                              ('model', model)\n",
    "                             ])\n",
    "\n",
    "# Preprocessing of training data, fit model \n",
    "my_pipeline.fit(X_train, y_train)\n",
    "\n",
    "# Preprocessing of validation data, get predictions\n",
    "preds = my_pipeline.predict(X_test)\n",
    "\n",
    "# Evaluate the model\n",
    "mae = mean_absolute_error(y_test, preds)\n",
    "print('MAE:', mae)\n",
    "mse = mean_squared_error(y_test, preds)\n",
    "print('MSE:', mse)\n",
    "rmse = np.sqrt(mse)\n",
    "print('RMSE:', rmse)\n",
    "print(\"Explain variance score =\", round(explained_variance_score(y_test, preds), 2)) "
   ]
  },
  {
   "cell_type": "code",
   "execution_count": 12,
   "id": "e6c89610",
   "metadata": {},
   "outputs": [
    {
     "data": {
      "text/plain": [
       "680     9\n",
       "1102    7\n",
       "394     9\n",
       "930     8\n",
       "497     8\n",
       "       ..\n",
       "66      6\n",
       "67      4\n",
       "376     6\n",
       "211     9\n",
       "12      3\n",
       "Name: ETAHours, Length: 375, dtype: int64"
      ]
     },
     "execution_count": 12,
     "metadata": {},
     "output_type": "execute_result"
    }
   ],
   "source": [
    "y_test"
   ]
  },
  {
   "cell_type": "code",
   "execution_count": 13,
   "id": "7875aedd",
   "metadata": {},
   "outputs": [
    {
     "data": {
      "text/plain": [
       "array([ 8.63,  6.51,  8.3 ,  8.57,  9.95, 10.85, 11.36, 15.45,  5.51,\n",
       "        2.62,  9.04, 17.97,  1.54, 11.07,  2.69,  3.43, 10.46,  9.45,\n",
       "        5.23,  2.43,  3.45,  8.46,  2.82,  1.83,  5.2 ,  2.89, 16.89,\n",
       "        2.61, 10.7 ,  5.13,  4.92,  5.33,  6.07,  8.81,  8.56,  5.46,\n",
       "        5.58,  3.45,  5.29,  3.72,  2.13,  4.35,  2.71,  5.6 ,  2.25,\n",
       "        5.59,  8.68,  4.94, 10.46,  2.74,  3.56, 17.94,  5.52,  3.8 ,\n",
       "       16.6 ,  5.81,  9.6 ,  2.75, 17.03,  2.62,  6.42,  3.34,  4.14,\n",
       "        2.06, 11.57,  2.76,  5.08,  5.13,  2.98,  9.28,  5.26,  1.41,\n",
       "        4.82,  2.39,  3.48,  8.24,  3.46, 10.44,  5.57,  4.53,  1.51,\n",
       "        2.7 ,  5.5 ,  3.46,  4.98,  5.45,  5.63,  8.8 , 12.01,  4.05,\n",
       "        6.21, 10.89,  9.  ,  4.95, 11.82,  6.47,  6.28, 17.96, 10.29,\n",
       "        3.15, 15.33,  5.61,  5.25,  2.47,  3.04,  3.48,  3.41,  3.64,\n",
       "        8.71, 15.2 ,  5.29,  2.95,  2.86, 17.33, 15.79, 16.93,  8.26,\n",
       "       10.68, 16.73, 16.53,  3.87,  2.55, 10.63,  2.22,  2.7 ,  3.53,\n",
       "        4.67,  5.1 , 17.13,  5.94, 16.05, 15.7 , 10.23,  5.7 , 17.34,\n",
       "        8.35,  4.37,  5.89,  2.77,  4.96,  3.09,  9.74,  4.42,  3.12,\n",
       "        5.85,  5.  ,  3.2 ,  3.67,  1.73,  5.22,  9.01,  5.16,  6.73,\n",
       "        5.04,  9.07,  2.53, 10.71,  5.46,  8.29,  8.82,  4.55,  1.55,\n",
       "        6.14,  1.39,  4.01,  3.04, 16.81,  6.61,  6.27,  1.15,  9.18,\n",
       "       10.  , 16.63, 11.56,  5.6 ,  3.43,  9.79,  3.52,  8.86,  1.43,\n",
       "        5.3 , 11.5 , 10.9 ,  5.85,  3.57,  6.39, 16.89,  9.48, 10.88,\n",
       "        5.76, 15.35,  3.53,  3.54,  5.29,  4.83,  8.56, 16.6 ,  6.3 ,\n",
       "        8.48,  3.6 , 12.07,  5.44,  5.73,  3.33, 10.61, 10.48,  3.14,\n",
       "        5.3 ,  1.86,  3.13,  8.86,  5.08,  4.73,  1.03,  1.9 , 10.56,\n",
       "       18.12,  3.93,  3.76,  1.47, 17.77,  3.37,  5.67,  6.05, 15.6 ,\n",
       "        5.9 ,  3.19, 10.44,  3.1 ,  8.76,  8.7 , 16.62,  1.28,  2.62,\n",
       "        3.66,  3.28,  2.94,  1.18,  6.54, 16.16,  1.68,  1.24,  2.76,\n",
       "       17.26,  3.04,  8.36,  1.66,  3.33,  6.68, 15.23,  9.67,  6.08,\n",
       "        8.94,  8.59,  8.66, 16.13,  3.46,  4.88,  9.91,  4.77,  8.63,\n",
       "        1.89,  3.58,  5.19,  5.78,  2.7 ,  5.64,  4.02,  5.9 ,  4.01,\n",
       "        8.91,  2.61,  2.36,  2.4 ,  8.58, 15.81,  1.31,  3.44,  5.84,\n",
       "        3.21, 10.79,  5.69,  5.83, 17.13,  5.07,  6.45,  4.73, 10.87,\n",
       "        8.48,  9.61,  9.92,  2.36,  8.71,  1.41,  4.68,  2.74,  3.32,\n",
       "        5.25,  5.6 ,  6.02,  1.28,  2.74,  5.08,  1.4 ,  8.71, 16.37,\n",
       "        6.4 ,  8.65,  3.07,  1.43,  6.02, 11.64,  5.47,  3.97,  9.93,\n",
       "        2.24,  3.15,  8.85,  5.3 , 10.54,  2.18, 15.53,  4.74,  3.18,\n",
       "        5.47, 10.35,  3.5 , 10.56, 16.6 , 10.86, 10.58,  3.61,  6.14,\n",
       "        1.6 ,  5.52, 15.86,  3.36,  6.69, 11.67,  5.32, 14.92,  6.5 ,\n",
       "       15.95,  1.69,  6.3 ,  5.94,  4.54,  5.27, 16.69, 11.4 ,  9.1 ,\n",
       "        4.72,  9.7 ,  5.23,  6.61,  2.71,  1.34,  5.81,  5.48, 11.34,\n",
       "        8.41,  2.08,  5.31, 17.21,  3.99,  5.22, 11.19,  2.52,  9.49,\n",
       "       10.58,  4.23,  3.46,  6.1 , 11.05,  3.59])"
      ]
     },
     "execution_count": 13,
     "metadata": {},
     "output_type": "execute_result"
    }
   ],
   "source": [
    "preds"
   ]
  },
  {
   "cell_type": "code",
   "execution_count": 14,
   "id": "06e70677",
   "metadata": {},
   "outputs": [
    {
     "name": "stderr",
     "output_type": "stream",
     "text": [
      "C:\\Users\\IPS-207\\Desktop\\my model\\venv\\lib\\site-packages\\sklearn\\base.py:409: UserWarning: X does not have valid feature names, but StandardScaler was fitted with feature names\n",
      "  warnings.warn(\n",
      "C:\\Users\\IPS-207\\Desktop\\my model\\venv\\lib\\site-packages\\sklearn\\base.py:409: UserWarning: X does not have valid feature names, but OneHotEncoder was fitted with feature names\n",
      "  warnings.warn(\n"
     ]
    }
   ],
   "source": [
    "my_preds = my_pipeline.predict([['C#',6,3,'UserModule'],['php',9,5,'RoleModule']])"
   ]
  },
  {
   "cell_type": "code",
   "execution_count": 15,
   "id": "1a7ecdcd",
   "metadata": {},
   "outputs": [
    {
     "data": {
      "text/plain": [
       "array([3.53, 5.58])"
      ]
     },
     "execution_count": 15,
     "metadata": {},
     "output_type": "execute_result"
    }
   ],
   "source": [
    "my_preds"
   ]
  },
  {
   "cell_type": "code",
   "execution_count": 16,
   "id": "5c460a1b",
   "metadata": {},
   "outputs": [
    {
     "name": "stdout",
     "output_type": "stream",
     "text": [
      "Model score: 0.9860374134161146\n"
     ]
    }
   ],
   "source": [
    "import pickle\n",
    "\n",
    "print('Model score:', my_pipeline.score(X_train,y_train))\n",
    "pickle.dump(my_pipeline, open('rfr_model.sav', 'wb'))"
   ]
  },
  {
   "cell_type": "code",
   "execution_count": 17,
   "id": "206ec2ae",
   "metadata": {},
   "outputs": [
    {
     "name": "stdout",
     "output_type": "stream",
     "text": [
      "Loaded model score: 0.9860374134161146\n"
     ]
    }
   ],
   "source": [
    "loaded_model = pickle.load(open('rfr_model.sav', 'rb'))                 \n",
    "print('Loaded model score:', loaded_model.score(X_train,y_train))"
   ]
  },
  {
   "cell_type": "code",
   "execution_count": 18,
   "id": "57e3a954",
   "metadata": {},
   "outputs": [
    {
     "name": "stderr",
     "output_type": "stream",
     "text": [
      "C:\\Users\\IPS-207\\Desktop\\my model\\venv\\lib\\site-packages\\sklearn\\base.py:409: UserWarning: X does not have valid feature names, but StandardScaler was fitted with feature names\n",
      "  warnings.warn(\n",
      "C:\\Users\\IPS-207\\Desktop\\my model\\venv\\lib\\site-packages\\sklearn\\base.py:409: UserWarning: X does not have valid feature names, but OneHotEncoder was fitted with feature names\n",
      "  warnings.warn(\n"
     ]
    },
    {
     "data": {
      "text/plain": [
       "array([1.64, 1.73])"
      ]
     },
     "execution_count": 18,
     "metadata": {},
     "output_type": "execute_result"
    }
   ],
   "source": [
    "loaded_model.predict([['React',15,4,'UserModule'],['C#',15,4,'UserModule']])"
   ]
  }
 ],
 "metadata": {
  "kernelspec": {
   "display_name": "Python 3 (ipykernel)",
   "language": "python",
   "name": "python3"
  },
  "language_info": {
   "codemirror_mode": {
    "name": "ipython",
    "version": 3
   },
   "file_extension": ".py",
   "mimetype": "text/x-python",
   "name": "python",
   "nbconvert_exporter": "python",
   "pygments_lexer": "ipython3",
   "version": "3.10.0"
  }
 },
 "nbformat": 4,
 "nbformat_minor": 5
}
